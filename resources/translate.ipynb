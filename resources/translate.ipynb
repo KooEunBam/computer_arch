{
  "nbformat": 4,
  "nbformat_minor": 0,
  "metadata": {
    "colab": {
      "name": "translate.ipynb",
      "provenance": [],
      "collapsed_sections": [],
      "authorship_tag": "ABX9TyO68Hk9Q8SrMmHmhEOCrmRi",
      "include_colab_link": true
    },
    "kernelspec": {
      "name": "python3",
      "display_name": "Python 3"
    }
  },
  "cells": [
    {
      "cell_type": "markdown",
      "metadata": {
        "id": "view-in-github",
        "colab_type": "text"
      },
      "source": [
        "<a href=\"https://colab.research.google.com/github/jeonggunlee/computer_arch/blob/master/resources/translate.ipynb\" target=\"_parent\"><img src=\"https://colab.research.google.com/assets/colab-badge.svg\" alt=\"Open In Colab\"/></a>"
      ]
    },
    {
      "cell_type": "code",
      "metadata": {
        "colab": {
          "base_uri": "https://localhost:8080/"
        },
        "id": "tFgQ76nYVcgM",
        "outputId": "0e28d0ac-5b51-4082-dac9-613018eaa05b"
      },
      "source": [
        "%%writefile myasm.asm\n",
        "                             # 주소 (word addressable)\n",
        "        lw 1 0 0             # 0  lw $1 0($0)  --> Memory 0번지 ---> $1 (n)\n",
        "        addi 2 0 1           # 1  addi $2 $0 1 ---> $2 = 1, index i = 1\n",
        "        addi 3 0 0           # 2  addi $3 $0 0 ---> $3 = 0, sum = 0\n",
        "REPEAT: beq 2 1 3            # 3  if ($2 == $1) goto done\n",
        "        add 3 3 2            # 4  add $3, $3, $2 : $3 = $3 + $2 ===> sum = sum + i\n",
        "        addi 2 2 1           # 5  addi $2, $2, 1 : $2 = $2 + 1 ===> i = i + 1\n",
        "        j 3                  # 6  goto REPEAT\n",
        "\n",
        "done:   sw 3 4 0             # 7  sw $3, 4($0)\n",
        "        j 8                  # 8  무한 반복\n"
      ],
      "execution_count": null,
      "outputs": [
        {
          "output_type": "stream",
          "text": [
            "Overwriting myasm.asm\n"
          ],
          "name": "stdout"
        }
      ]
    },
    {
      "cell_type": "code",
      "metadata": {
        "colab": {
          "base_uri": "https://localhost:8080/"
        },
        "id": "uwsMyEFSXPoc",
        "outputId": "d1c63c2f-9fe7-4e50-ad08-02f58a16e73c"
      },
      "source": [
        "cat myasm.asm"
      ],
      "execution_count": null,
      "outputs": [
        {
          "output_type": "stream",
          "text": [
            "\n",
            "        lw 1 0 0\n",
            "        addi 2 0 1\n",
            "        addi 3 0 0\n",
            "REPEAT: beq 2 1 3\n",
            "        add 3 3 2\n",
            "        addi 2 2 1\n",
            "        j 3\n",
            "\n",
            "done:   sw 3 4 0\n",
            "        j 8"
          ],
          "name": "stdout"
        }
      ]
    },
    {
      "cell_type": "code",
      "metadata": {
        "colab": {
          "base_uri": "https://localhost:8080/"
        },
        "id": "A1JQiUyOXopH",
        "outputId": "180fa2d9-c54e-4220-9153-520413046037"
      },
      "source": [
        "instructions = [\"lw\", \"sw\", \"add\", \"sub\", \"and\", \"or\", \"slt\", \"beq\", \"j\"]\n",
        "\n",
        "fin = open(\"./myasm.asm\", mode='r')\n",
        "fout = open(\"./gen.asm\", mode='w')\n",
        "linenum = 0\n",
        "\n",
        "for line in fin:\n",
        "  word = line.strip()\n",
        "  #print(word)\n",
        "  w = word.split()\n",
        "  # label 인가 ?\n",
        "  if w[:] == []:\n",
        "    None\n",
        "  else:\n",
        "    if w[0][-1] == \":\":\n",
        "      del w[0]\n",
        "    if w[0] == \"lw\":\n",
        "      value = 0b100011 << 26 | int(w[3]) << 21 | int(w[1]) << 16 | int(w[2])\n",
        "      print(format(value, '#x'))\n",
        "    if w[0] == \"sw\":\n",
        "      value = 0b101011 << 26 | int(w[3]) << 21 | int(w[1]) << 16 | int(w[2])\n",
        "      print(format(value, '#x'))\n",
        "    if w[0] == \"beq\":\n",
        "      value = 0b000100 << 26 | int(w[1]) << 21 | int(w[2]) << 16 | int(w[3])\n",
        "      print(format(value, '#x'))\n",
        "    if w[0] == \"j\":\n",
        "      value = 0b000010 << 26 | int(w[1])\n",
        "      print('0x{0:0>8x}'.format(value, '#x'))\n",
        "    if w[0] == \"addi\":\n",
        "      value = 0b001000 << 26 | int(w[2]) << 21 | int(w[1]) << 16 | int(w[3])\n",
        "      print(format(value, '#x'))     \n",
        "    # R-type\n",
        "    if w[0] == \"add\":\n",
        "      value = 0b000000 << 26 | int(w[2]) << 21 | int(w[3]) << 16 | int(w[1]) << 11 | 0b100000\n",
        "      print('0x{0:0>8x}'.format(value, '#x'))\n",
        "    if w[0] == \"sub\":\n",
        "      value = 0b000000 << 26 | int(w[2]) << 21 | int(w[3]) << 16 | int(w[1]) << 11 | 0b100010\n",
        "      print(format(value, '#x'))\n",
        "    if w[0] == \"and\":\n",
        "      value = 0b000000 << 26 | int(w[2]) << 21 | int(w[3]) << 16 | int(w[1]) << 11 | 0b100100\n",
        "      print(format(value, '#x'))\n",
        "    if w[0] == \"or\":\n",
        "      value = 0b000000 << 26 | int(w[2]) << 21 | int(w[3]) << 16 | int(w[1]) << 11 | 0b100101\n",
        "      print(format(value, '#x'))   \n",
        "    if w[0] == \"slt\":\n",
        "      value = 0b000000 << 26 | int(w[2]) << 21 | int(w[3]) << 16 | int(w[1]) << 11 | 0b101010\n",
        "      print(format(value, '#x'))            \n",
        "    #print(w)\n"
      ],
      "execution_count": null,
      "outputs": [
        {
          "output_type": "stream",
          "text": [
            "0x8c010000\n",
            "0x20020001\n",
            "0x20030000\n",
            "0x10410003\n",
            "0x00621820\n",
            "0x20420001\n",
            "0x08000003\n",
            "0xac030004\n",
            "0x08000008\n"
          ],
          "name": "stdout"
        }
      ]
    }
  ]
}